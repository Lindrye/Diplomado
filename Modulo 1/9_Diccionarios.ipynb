{
 "cells": [
  {
   "cell_type": "code",
   "execution_count": 3,
   "metadata": {},
   "outputs": [
    {
     "name": "stdout",
     "output_type": "stream",
     "text": [
      "Name: gardevoir\n",
      "ID: 282\n",
      "Height: 16\n",
      "Weight: 484\n",
      "Types: psychic, fairy\n",
      "Abilities: synchronize, trace, telepathy\n"
     ]
    }
   ],
   "source": [
    "import requests\n",
    "\n",
    "def get_pokemon_info(pokemon_name):\n",
    "    url = f\"https://pokeapi.co/api/v2/pokemon/{pokemon_name.lower()}\"\n",
    "    response = requests.get(url)\n",
    "    \n",
    "    if response.status_code == 200:\n",
    "        data = response.json()\n",
    "        return {\n",
    "            'name': data['name'],\n",
    "            'id': data['id'],\n",
    "            'height': data['height'],\n",
    "            'weight': data['weight'],\n",
    "            'types': [type_info['type']['name'] for type_info in data['types']],\n",
    "            'abilities': [ability['ability']['name'] for ability in data['abilities']]\n",
    "        }\n",
    "    else:\n",
    "        return None\n",
    "\n",
    "pokemon_name = input(\"Enter the name of the Pokémon: \")\n",
    "pokemon_info = get_pokemon_info(pokemon_name)\n",
    "\n",
    "if pokemon_info:\n",
    "    print(f\"Name: {pokemon_info['name']}\")\n",
    "    print(f\"ID: {pokemon_info['id']}\")\n",
    "    print(f\"Height: {pokemon_info['height']}\")\n",
    "    print(f\"Weight: {pokemon_info['weight']}\")\n",
    "    print(f\"Types: {', '.join(pokemon_info['types'])}\")\n",
    "    print(f\"Abilities: {', '.join(pokemon_info['abilities'])}\")\n",
    "else:\n",
    "    print(\"Pokémon not found.\")"
   ]
  }
 ],
 "metadata": {
  "kernelspec": {
   "display_name": "Diplomado",
   "language": "python",
   "name": "python3"
  },
  "language_info": {
   "codemirror_mode": {
    "name": "ipython",
    "version": 3
   },
   "file_extension": ".py",
   "mimetype": "text/x-python",
   "name": "python",
   "nbconvert_exporter": "python",
   "pygments_lexer": "ipython3",
   "version": "3.10.14"
  }
 },
 "nbformat": 4,
 "nbformat_minor": 2
}
